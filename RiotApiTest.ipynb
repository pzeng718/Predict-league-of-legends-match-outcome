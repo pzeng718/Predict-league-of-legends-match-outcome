{
 "cells": [
  {
   "cell_type": "code",
   "execution_count": 3,
   "id": "indoor-accused",
   "metadata": {},
   "outputs": [],
   "source": [
    "#Extract riot api information\n",
    "from riotwatcher import LolWatcher, ApiError\n",
    "import pandas as pd"
   ]
  },
  {
   "cell_type": "code",
   "execution_count": 4,
   "id": "prescription-valve",
   "metadata": {},
   "outputs": [
    {
     "name": "stdout",
     "output_type": "stream",
     "text": [
      "{'id': 'W-urTBDAS0ytNxFjHPQcpUiNsDDGjbTFjzRMUcH78BkMTy8', 'accountId': 'tgRQ1_yDzy74Ci-3nN3svdPE9JrXytbS-C-isauPn8kZOw', 'puuid': 'jmjR4SfJC_FrfqSGGLY3HYqYKGdmXFb6Tc2F9J3cR0hnNBiYPEOXyO8KdDAKO4QElc1_6vk4NdmFSQ', 'name': 'Doublelift', 'profileIconId': 4568, 'revisionDate': 1614906480000, 'summonerLevel': 239}\n"
     ]
    }
   ],
   "source": [
    "api_key = 'RGAPI-12a983bc-65ee-4335-9a8f-f086bf7b4631'\n",
    "watcher = LolWatcher(api_key)\n",
    "my_region = 'na1'\n",
    "\n",
    "me = watcher.summoner.by_name('na1', 'Doublelift')\n",
    "print(me)"
   ]
  },
  {
   "cell_type": "code",
   "execution_count": null,
   "id": "fitted-happening",
   "metadata": {},
   "outputs": [],
   "source": []
  }
 ],
 "metadata": {
  "kernelspec": {
   "display_name": "Python 3",
   "language": "python",
   "name": "python3"
  },
  "language_info": {
   "codemirror_mode": {
    "name": "ipython",
    "version": 3
   },
   "file_extension": ".py",
   "mimetype": "text/x-python",
   "name": "python",
   "nbconvert_exporter": "python",
   "pygments_lexer": "ipython3",
   "version": "3.8.3"
  }
 },
 "nbformat": 4,
 "nbformat_minor": 5
}
