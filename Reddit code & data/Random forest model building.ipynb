{
 "cells": [
  {
   "cell_type": "code",
   "execution_count": 1,
   "metadata": {},
   "outputs": [],
   "source": [
    "import pandas as pd\n",
    "from sklearn.model_selection import train_test_split\n",
    "from sklearn.ensemble import RandomForestClassifier\n",
    "from sklearn import metrics\n",
    "from sklearn.svm import SVC\n",
    "from sklearn.metrics import plot_roc_curve\n",
    "import matplotlib.pyplot as plt\n"
   ]
  },
  {
   "cell_type": "code",
   "execution_count": 2,
   "metadata": {},
   "outputs": [],
   "source": [
    "champion_strength_info = pd.read_csv(r'/Users/zengpeifan/Stats 170A/Final Project/Data/champion_strength.csv')\n",
    "matches_wr = pd.read_csv(r'/Users/zengpeifan/Stats 170A/Final Project/Data/CMWRLP1_ChampStrength_ChampWR.csv', index_col = False)"
   ]
  },
  {
   "cell_type": "code",
   "execution_count": null,
   "metadata": {},
   "outputs": [],
   "source": [
    "matches_wr = matches_wr.fillna(0.5)\n",
    "y = matches_wr['TeamTwoWin']\n",
    "X = matches_wr[['T1P1LP', 'T1P2LP', 'T1P3LP', 'T1P4LP', 'T1P5LP', 'T2P1LP', 'T2P2LP', 'T2P3LP', 'T2P4LP', 'T2P5LP',\n",
    "#                 'T1P1WR', 'T1P2WR', 'T1P3WR', 'T1P4WR', 'T1P5WR', 'T2P1WR', 'T2P2WR', 'T2P3WR', 'T2P4WR', 'T2P5WR',\n",
    "#                 'T1P1CM', 'T1P2CM', 'T1P3CM', 'T1P4CM', 'T1P5CM', 'T2P1CM', 'T2P2CM', 'T2P3CM', 'T2P4CM', 'T2P5CM',\n",
    "                'Team1P1PostChampOccurTimes', 'Team1P2PostChampOccurTimes', 'Team1P3PostChampOccurTimes', 'Team1P4PostChampOccurTimes', 'Team1P5PostChampOccurTimes', \n",
    "                'Team2P1PostChampOccurTimes', 'Team2P2PostChampOccurTimes', 'Team2P3PostChampOccurTimes', 'Team2P4PostChampOccurTimes', 'Team2P5PostChampOccurTimes',\n",
    "#                 'Team1P1CommentChampOccurTimes', 'Team1P2CommentChampOccurTimes', 'Team1P3CommentChampOccurTimes', 'Team1P4CommentChampOccurTimes', 'Team1P5CommentChampOccurTimes', \n",
    "#                 'Team2P1CommentChampOccurTimes', 'Team2P2CommentChampOccurTimes', 'Team2P3CommentChampOccurTimes', 'Team2P4CommentChampOccurTimes', 'Team2P5CommentChampOccurTimes',\n",
    "                'Team1P1PostPositiveScore', 'Team1P2PostPositiveScore', 'Team1P3PostPositiveScore', 'Team1P4PostPositiveScore', 'Team1P5PostPositiveScore', \n",
    "                'Team2P1PostPositiveScore', 'Team2P2PostPositiveScore', 'Team2P3PostPositiveScore', 'Team2P4PostPositiveScore', 'Team2P5PostPositiveScore',\n",
    "#                 'Team1P1PostNegativeScore', 'Team1P2PostNegativeScore', 'Team1P3PostNegativeScore', 'Team1P4PostNegativeScore', 'Team1P5PostNegativeScore', \n",
    "#                 'Team2P1PostNegativeScore', 'Team2P2PostNegativeScore', 'Team2P3PostNegativeScore', 'Team2P4PostNegativeScore', 'Team2P5PostNegativeScore',\n",
    "#                 'Team1P1CommentPositiveScore', 'Team1P2CommentPositiveScore', 'Team1P3CommentPositiveScore', 'Team1P4CommentPositiveScore', 'Team1P5CommentPositiveScore', \n",
    "#                 'Team2P1CommentPositiveScore', 'Team2P2CommentPositiveScore', 'Team2P3CommentPositiveScore', 'Team2P4CommentPositiveScore', 'Team2P5CommentPositiveScore',\n",
    "                'Team1P1CommentNegativeScore', 'Team1P2CommentNegativeScore', 'Team1P3CommentNegativeScore', 'Team1P4CommentNegativeScore', 'Team1P5CommentNegativeScore', \n",
    "                'Team2P1CommentNegativeScore', 'Team2P2CommentNegativeScore', 'Team2P3CommentNegativeScore', 'Team2P4CommentNegativeScore', 'Team2P5CommentNegativeScore',\n",
    "                'T1P1ChampWR', 'T1P2ChampWR', 'T1P3ChampWR', 'T1P4ChampWR', 'T1P5ChampWR',\n",
    "                'T2P1ChampWR', 'T2P2ChampWR', 'T2P3ChampWR', 'T2P4ChampWR', 'T2P5ChampWR']]"
   ]
  },
  {
   "cell_type": "code",
   "execution_count": null,
   "metadata": {},
   "outputs": [],
   "source": [
    "X_train, X_test, y_train, y_test = train_test_split(X, y, test_size=0.3)"
   ]
  },
  {
   "cell_type": "code",
   "execution_count": null,
   "metadata": {},
   "outputs": [],
   "source": [
    "clf=RandomForestClassifier(n_estimators=100)\n",
    "clf.fit(X_train,y_train)\n",
    "y_pred=clf.predict(X_test)"
   ]
  },
  {
   "cell_type": "code",
   "execution_count": null,
   "metadata": {},
   "outputs": [],
   "source": [
    "print(\"Accuracy:\",metrics.accuracy_score(y_test, y_pred))\n",
    "svc = SVC(random_state=42)\n",
    "svc.fit(X_train, y_train)\n",
    "svc_disp = plot_roc_curve(svc, X_test, y_test)\n",
    "plt.title(\"Random Forest ROC Curve\")\n",
    "plt.show()"
   ]
  },
  {
   "cell_type": "code",
   "execution_count": null,
   "metadata": {},
   "outputs": [],
   "source": [
    "# PCA\n",
    "from sklearn.preprocessing import StandardScaler\n",
    "features = ['T1P1LP', 'T1P2LP', 'T1P3LP', 'T1P4LP', 'T1P5LP', 'T2P1LP', 'T2P2LP', 'T2P3LP', 'T2P4LP', 'T2P5LP',\n",
    "            'T1P1WR', 'T1P2WR', 'T1P3WR', 'T1P4WR', 'T1P5WR', 'T2P1WR', 'T2P2WR', 'T2P3WR', 'T2P4WR', 'T2P5WR',\n",
    "            'T1P1CM', 'T1P2CM', 'T1P3CM', 'T1P4CM', 'T1P5CM', 'T2P1CM', 'T2P2CM', 'T2P3CM', 'T2P4CM', 'T2P5CM',\n",
    "            'Team1P1PostChampOccurTimes', 'Team1P2PostChampOccurTimes', 'Team1P3PostChampOccurTimes', 'Team1P4PostChampOccurTimes', 'Team1P5PostChampOccurTimes', \n",
    "            'Team2P1PostChampOccurTimes', 'Team2P2PostChampOccurTimes', 'Team2P3PostChampOccurTimes', 'Team2P4PostChampOccurTimes', 'Team2P5PostChampOccurTimes',\n",
    "            'Team1P1CommentChampOccurTimes', 'Team1P2CommentChampOccurTimes', 'Team1P3CommentChampOccurTimes', 'Team1P4CommentChampOccurTimes', 'Team1P5CommentChampOccurTimes', \n",
    "            'Team2P1CommentChampOccurTimes', 'Team2P2CommentChampOccurTimes', 'Team2P3CommentChampOccurTimes', 'Team2P4CommentChampOccurTimes', 'Team2P5CommentChampOccurTimes',\n",
    "            'Team1P1PostPositiveScore', 'Team1P2PostPositiveScore', 'Team1P3PostPositiveScore', 'Team1P4PostPositiveScore', 'Team1P5PostPositiveScore', \n",
    "            'Team2P1PostPositiveScore', 'Team2P2PostPositiveScore', 'Team2P3PostPositiveScore', 'Team2P4PostPositiveScore', 'Team2P5PostPositiveScore',\n",
    "            'Team1P1PostNegativeScore', 'Team1P2PostNegativeScore', 'Team1P3PostNegativeScore', 'Team1P4PostNegativeScore', 'Team1P5PostNegativeScore', \n",
    "            'Team2P1PostNegativeScore', 'Team2P2PostNegativeScore', 'Team2P3PostNegativeScore', 'Team2P4PostNegativeScore', 'Team2P5PostNegativeScore',\n",
    "            'Team1P1CommentPositiveScore', 'Team1P2CommentPositiveScore', 'Team1P3CommentPositiveScore', 'Team1P4CommentPositiveScore', 'Team1P5CommentPositiveScore', \n",
    "            'Team2P1CommentPositiveScore', 'Team2P2CommentPositiveScore', 'Team2P3CommentPositiveScore', 'Team2P4CommentPositiveScore', 'Team2P5CommentPositiveScore',\n",
    "            'Team1P1CommentNegativeScore', 'Team1P2CommentNegativeScore', 'Team1P3CommentNegativeScore', 'Team1P4CommentNegativeScore', 'Team1P5CommentNegativeScore', \n",
    "            'Team2P1CommentNegativeScore', 'Team2P2CommentNegativeScore', 'Team2P3CommentNegativeScore', 'Team2P4CommentNegativeScore', 'Team2P5CommentNegativeScore',\n",
    "            'T1P1ChampWR', 'T1P2ChampWR', 'T1P3ChampWR', 'T1P4ChampWR', 'T1P5ChampWR',\n",
    "            'T2P1ChampWR', 'T2P2ChampWR', 'T2P3ChampWR', 'T2P4ChampWR', 'T2P5ChampWR']\n",
    "x = matches_wr.loc[:, features].values\n",
    "y = matches_wr.loc[:, ['TeamTwoWin']].values\n",
    "x = StandardScaler().fit_transform(x)"
   ]
  },
  {
   "cell_type": "code",
   "execution_count": null,
   "metadata": {},
   "outputs": [],
   "source": [
    "from sklearn.decomposition import PCA\n",
    "pca = PCA(n_components=100)\n",
    "principalComponents = pca.fit_transform(x)\n",
    "principalComponents"
   ]
  },
  {
   "cell_type": "code",
   "execution_count": null,
   "metadata": {},
   "outputs": [],
   "source": [
    "import matplotlib.pyplot as plt\n",
    "plt.plot(np.cumsum(pca.explained_variance_ratio_))\n",
    "plt.xlabel('number of components')\n",
    "plt.ylabel('cumulative explained variance');\n",
    "plt.title('PCA cumulative variance plot')"
   ]
  }
 ],
 "metadata": {
  "kernelspec": {
   "display_name": "Python 3",
   "language": "python",
   "name": "python3"
  },
  "language_info": {
   "codemirror_mode": {
    "name": "ipython",
    "version": 3
   },
   "file_extension": ".py",
   "mimetype": "text/x-python",
   "name": "python",
   "nbconvert_exporter": "python",
   "pygments_lexer": "ipython3",
   "version": "3.8.3"
  }
 },
 "nbformat": 4,
 "nbformat_minor": 4
}
