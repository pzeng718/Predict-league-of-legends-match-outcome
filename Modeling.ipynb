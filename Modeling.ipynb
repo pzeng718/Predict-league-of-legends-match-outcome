{
 "cells": [
  {
   "cell_type": "code",
   "execution_count": 1,
   "id": "organizational-lesson",
   "metadata": {},
   "outputs": [],
   "source": [
    "import numpy as np\n",
    "import pandas as pd\n",
    "from sklearn.linear_model import LogisticRegression\n",
    "from sklearn.decomposition import PCA"
   ]
  },
  {
   "cell_type": "code",
   "execution_count": 2,
   "id": "employed-awareness",
   "metadata": {},
   "outputs": [],
   "source": [
    "from sklearn.datasets import load_iris\n",
    "import matplotlib.pyplot as plt"
   ]
  },
  {
   "cell_type": "code",
   "execution_count": 3,
   "id": "stuck-messaging",
   "metadata": {},
   "outputs": [
    {
     "name": "stderr",
     "output_type": "stream",
     "text": [
      "c:\\users\\devin\\appdata\\local\\programs\\python\\python38-32\\lib\\site-packages\\sklearn\\linear_model\\_logistic.py:763: ConvergenceWarning: lbfgs failed to converge (status=1):\n",
      "STOP: TOTAL NO. of ITERATIONS REACHED LIMIT.\n",
      "\n",
      "Increase the number of iterations (max_iter) or scale the data as shown in:\n",
      "    https://scikit-learn.org/stable/modules/preprocessing.html\n",
      "Please also refer to the documentation for alternative solver options:\n",
      "    https://scikit-learn.org/stable/modules/linear_model.html#logistic-regression\n",
      "  n_iter_i = _check_optimize_result(\n"
     ]
    },
    {
     "data": {
      "text/plain": [
       "0.9733333333333334"
      ]
     },
     "execution_count": 3,
     "metadata": {},
     "output_type": "execute_result"
    }
   ],
   "source": [
    "X, y = load_iris(return_X_y=True)\n",
    "clf = LogisticRegression(random_state=0).fit(X, y)\n",
    "clf.predict(X[:2, :])\n",
    "\n",
    "clf.predict_proba(X[:2, :])\n",
    "clf.score(X, y)\n"
   ]
  },
  {
   "cell_type": "code",
   "execution_count": 3,
   "id": "opposite-technician",
   "metadata": {},
   "outputs": [],
   "source": [
    "matchesData = pd.read_csv(\"CMWRLP1_ChampStrength_ChampWR.csv\")\n",
    "mapping = {'Win': 1, 'Fail': 0}\n",
    "\n",
    "matchesData = matchesData.replace({'TeamTwoWin': mapping})\n",
    "response = np.array(matchesData[\"TeamTwoWin\"])\n",
    "\n",
    "mapping2 = {'NaN': 50.00}\n",
    "matchesData = matchesData.replace({'Team1P1WR': mapping2, 'Team1P2WR': mapping2,'Team1P3WR': mapping2,'Team1P4WR': mapping2,'Team1P5WR': mapping2,'Team2P1WR': mapping2,'Team2P2WR': mapping2,'Team2P3WR': mapping2,'Team2P4WR': mapping2,'Team2P5WR': mapping2})\n",
    "#response"
   ]
  },
  {
   "cell_type": "code",
   "execution_count": 4,
   "id": "partial-determination",
   "metadata": {},
   "outputs": [
    {
     "data": {
      "text/plain": [
       "array([[ 510,  394, 1159, ...,  796, 1016,  200],\n",
       "       [1025, 1331,  817, ...,  200, 1576,  200],\n",
       "       [1140,  200,  200, ...,  454,  771,  461],\n",
       "       ...,\n",
       "       [ 392,  200,  713, ...,  353, 1139,  678],\n",
       "       [1109,  353,  623, ...,  908,  855,  691],\n",
       "       [ 791, 1132, 1109, ...,  200,  700, 1068]], dtype=int64)"
      ]
     },
     "execution_count": 4,
     "metadata": {},
     "output_type": "execute_result"
    }
   ],
   "source": [
    "#predictors = np.array(matchesData[[\"Team1P1WR\",\"Team1P2WR\",\"Team1P3WR\",\"Team1P4WR\",\"Team1P5WR\",\"Team2P1WR\",\"Team2P2WR\",\"Team2P3WR\",\"Team2P4WR\",\"Team2P5WR\"]])\n",
    "#predictors2 = np.array(map(float, matchesData[[\"Team1P1WR\",\"Team1P2WR\",\"Team1P3WR\",\"Team1P4WR\",\"Team1P5WR\",\"Team2P1WR\",\"Team2P2WR\",\"Team2P3WR\",\"Team2P4WR\",\"Team2P5WR\"]]))\n",
    "#predictors3 = predictors.astype(np.float)\n",
    "predictors = np.array(matchesData[[\"T1P1LP\",\"T1P2LP\",\"T1P3LP\",\"T1P4LP\",\"T1P5LP\",\"T2P1LP\",\"T2P2LP\",\"T2P3LP\",\"T2P4LP\",\"T2P5LP\"]])\n",
    "predictors"
   ]
  },
  {
   "cell_type": "code",
   "execution_count": 5,
   "id": "numerical-escape",
   "metadata": {},
   "outputs": [
    {
     "data": {
      "text/plain": [
       "0.604709240099893"
      ]
     },
     "execution_count": 5,
     "metadata": {},
     "output_type": "execute_result"
    }
   ],
   "source": [
    "clf = LogisticRegression(random_state=0).fit(predictors, response)\n",
    "clf.predict(predictors)\n",
    "clf.score(predictors, response)"
   ]
  },
  {
   "cell_type": "code",
   "execution_count": 6,
   "id": "serial-dependence",
   "metadata": {},
   "outputs": [
    {
     "data": {
      "text/plain": [
       "[<matplotlib.lines.Line2D at 0x1847f670>]"
      ]
     },
     "execution_count": 6,
     "metadata": {},
     "output_type": "execute_result"
    },
    {
     "data": {
      "image/png": "[encoded data removed]",
      "text/plain": [
       "<Figure size 432x288 with 1 Axes>"
      ]
     },
     "metadata": {
      "needs_background": "light"
     },
     "output_type": "display_data"
    }
   ],
   "source": [
    "#0,0000000\n",
    "#adfs,1234523\n",
    "#afd,9420\n",
    "pca = PCA(n_components=10)\n",
    "pca.fit(predictors)\n",
    "xpca = pca.transform(predictors)\n",
    "#principalComponents = pca.fit_transform(clf)\n",
    "#principalDf = pd.DataFrame(data = principalComponents, columns = ['T1P1LP', 'T1P2LP','T1P3LP','T1P4LP','T1P5LP','T2P1LP','T2P2LP','T2P3LP','T2P4LP','T2P5LP'])\n",
    "#finalDf = pd.concat([principalDf, response], axis = 1)\n",
    "plt.plot(np.cumsum(pca.explained_variance_ratio_))\n",
    "\n"
   ]
  },
  {
   "cell_type": "code",
   "execution_count": null,
   "id": "serious-realtor",
   "metadata": {},
   "outputs": [],
   "source": []
  }
 ],
 "metadata": {
  "kernelspec": {
   "display_name": "Python 3",
   "language": "python",
   "name": "python3"
  },
  "language_info": {
   "codemirror_mode": {
    "name": "ipython",
    "version": 3
   },
   "file_extension": ".py",
   "mimetype": "text/x-python",
   "name": "python",
   "nbconvert_exporter": "python",
   "pygments_lexer": "ipython3",
   "version": "3.8.3"
  }
 },
 "nbformat": 4,
 "nbformat_minor": 5
}
