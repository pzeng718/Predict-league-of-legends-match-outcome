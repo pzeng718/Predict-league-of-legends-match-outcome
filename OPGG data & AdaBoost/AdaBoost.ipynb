{
 "cells": [
  {
   "cell_type": "code",
   "execution_count": 2,
   "metadata": {},
   "outputs": [],
   "source": [
    "import pandas as pd\n",
    "import numpy as np, arange\n",
    "from sklearn.ensemble import AdaBoostClassifier\n",
    "from sklearn.tree import DecisionTreeClassifier as DTC\n",
    "from sklearn.model_selection import train_test_split\n",
    "from sklearn.feature_selection import SelectKBest\n",
    "from sklearn.feature_selection import chi2\n",
    "from sklearn.metrics import accuracy_score, confusion_matrix, roc_auc_score\n",
    "from sklearn.model_selection import RepeatedStratifiedKFold, cross_val_score\n",
    "from numpy import mean, std"
   ]
  },
  {
   "cell_type": "code",
   "execution_count": 3,
   "metadata": {},
   "outputs": [],
   "source": [
    "df = pd.read_csv(\"../data/CMWRLP1_ChampStrength_ChampWR.csv\")\n",
    "# df = pd.read_csv(\"TrainingData/sample_final_match_table.csv\")"
   ]
  },
  {
   "cell_type": "code",
   "execution_count": 5,
   "metadata": {},
   "outputs": [],
   "source": [
    "df_select = df.iloc[:, 32:] #  all the features we might need\n",
    "\n",
    "# to have \"y_true\" column with only 0 or 1\n",
    "df_select[\"y\"] =  df.iloc[:, 1].replace({\"Win\": 1, \"Fail\":0})"
   ]
  },
  {
   "cell_type": "code",
   "execution_count": 6,
   "metadata": {},
   "outputs": [],
   "source": [
    "# Drop the rows with null values in these specified columns\n",
    "df_select.dropna(subset = [\"T1P1ChampWR\", \"T1P2ChampWR\", \"T1P3ChampWR\", \"T1P4ChampWR\", \"T1P5ChampWR\",\n",
    "                  \"T2P1ChampWR\", \"T2P2ChampWR\", \"T2P3ChampWR\",\"T2P4ChampWR\", \"T2P5ChampWR\"], inplace = True)"
   ]
  },
  {
   "cell_type": "code",
   "execution_count": 7,
   "metadata": {},
   "outputs": [],
   "source": [
    "y = df_select.iloc[:, -1]"
   ]
  },
  {
   "cell_type": "code",
   "execution_count": 8,
   "metadata": {},
   "outputs": [],
   "source": [
    "# X has all the features, CM, LP, ChampWR, RedditScore; \n",
    "# you might want to select only a few features here\n",
    "X = df_select.iloc[:, 0:-1]"
   ]
  },
  {
   "cell_type": "markdown",
   "metadata": {},
   "source": [
    "## Feature Selection"
   ]
  },
  {
   "cell_type": "markdown",
   "metadata": {},
   "source": [
    "## Adaboosting using train/test split"
   ]
  },
  {
   "cell_type": "code",
   "execution_count": 11,
   "metadata": {},
   "outputs": [],
   "source": [
    "ad = AdaBoostClassifier( n_estimators = 5000, learning_rate = 1.9)\n",
    "x_train, x_test, y_train, y_test = train_test_split(X, y,test_size = 0.3, random_state = 12345)\n",
    "ad.fit(x_train, y_train)\n",
    "pred_y = ad.predict(x_test)"
   ]
  },
  {
   "cell_type": "code",
   "execution_count": 21,
   "metadata": {},
   "outputs": [
    {
     "name": "stdout",
     "output_type": "stream",
     "text": [
      "0.8433881779402803\n",
      "[[667 154]\n",
      " [103 717]]\n",
      "0.843407058613826\n"
     ]
    }
   ],
   "source": [
    "print(accuracy_score(y_test, pred_y))\n",
    "print(confusion_matrix(y_test, pred_y))\n",
    "print(roc_auc_score(y_test, pred_y))"
   ]
  },
  {
   "cell_type": "code",
   "execution_count": 13,
   "metadata": {},
   "outputs": [
    {
     "name": "stdout",
     "output_type": "stream",
     "text": [
      "[0.0116 0.012  0.0094 0.0152 0.018  0.0108 0.0084 0.0176 0.0092 0.0138\n",
      " 0.0312 0.0342 0.0208 0.0272 0.0192 0.022  0.0156 0.026  0.034  0.0288\n",
      " 0.0148 0.0282 0.0188 0.0222 0.018  0.0188 0.0226 0.0234 0.024  0.0282\n",
      " 0.006  0.0046 0.0086 0.0026 0.0052 0.0072 0.0044 0.0016 0.0064 0.0016\n",
      " 0.004  0.0038 0.0078 0.0038 0.0042 0.006  0.0052 0.0056 0.0026 0.0038\n",
      " 0.0066 0.0018 0.0026 0.0064 0.0028 0.0056 0.0028 0.0052 0.0018 0.006\n",
      " 0.0036 0.009  0.0038 0.004  0.0032 0.0032 0.0074 0.0068 0.002  0.0026\n",
      " 0.0038 0.0018 0.0054 0.0038 0.0052 0.009  0.0068 0.0036 0.0042 0.0044\n",
      " 0.0034 0.0042 0.0016 0.0054 0.0036 0.0074 0.0034 0.0068 0.0066 0.009\n",
      " 0.0098 0.0104 0.0106 0.0106 0.0148 0.0082 0.0118 0.0138 0.0126 0.0118]\n"
     ]
    },
    {
     "data": {
      "image/png": "[encoded data removed]",
      "text/plain": [
       "<Figure size 432x288 with 1 Axes>"
      ]
     },
     "metadata": {
      "needs_background": "light"
     },
     "output_type": "display_data"
    }
   ],
   "source": [
    "print(ad.feature_importances_) #use inbuilt class feature_importances of tree based classifiers\n",
    "#plot graph of feature importances for better visualization\n",
    "feat_importances = pd.Series(ad.feature_importances_, index = X.columns)\n",
    "feat_importances.nlargest(100).plot(kind='barh')\n",
    "ax = plt.gca()\n",
    "ax.axes.yaxis.set_visible(False)\n",
    "plt.show()"
   ]
  },
  {
   "cell_type": "code",
   "execution_count": 20,
   "metadata": {},
   "outputs": [
    {
     "name": "stdout",
     "output_type": "stream",
     "text": [
      "[0.0116 0.012  0.0094 0.0152 0.018  0.0108 0.0084 0.0176 0.0092 0.0138\n",
      " 0.0312 0.0342 0.0208 0.0272 0.0192 0.022  0.0156 0.026  0.034  0.0288\n",
      " 0.0148 0.0282 0.0188 0.0222 0.018  0.0188 0.0226 0.0234 0.024  0.0282\n",
      " 0.006  0.0046 0.0086 0.0026 0.0052 0.0072 0.0044 0.0016 0.0064 0.0016\n",
      " 0.004  0.0038 0.0078 0.0038 0.0042 0.006  0.0052 0.0056 0.0026 0.0038\n",
      " 0.0066 0.0018 0.0026 0.0064 0.0028 0.0056 0.0028 0.0052 0.0018 0.006\n",
      " 0.0036 0.009  0.0038 0.004  0.0032 0.0032 0.0074 0.0068 0.002  0.0026\n",
      " 0.0038 0.0018 0.0054 0.0038 0.0052 0.009  0.0068 0.0036 0.0042 0.0044\n",
      " 0.0034 0.0042 0.0016 0.0054 0.0036 0.0074 0.0034 0.0068 0.0066 0.009\n",
      " 0.0098 0.0104 0.0106 0.0106 0.0148 0.0082 0.0118 0.0138 0.0126 0.0118]\n"
     ]
    },
    {
     "data": {
      "image/png": "[encoded data removed]",
      "text/plain": [
       "<Figure size 432x288 with 1 Axes>"
      ]
     },
     "metadata": {
      "needs_background": "light"
     },
     "output_type": "display_data"
    }
   ],
   "source": [
    "print(ad.feature_importances_) #use inbuilt class feature_importances of tree based classifiers\n",
    "#plot graph of feature importances for better visualization\n",
    "feat_importances = pd.Series(ad.feature_importances_, index = X.columns)\n",
    "feat_importances.nlargest(20).plot(kind='bar')\n",
    "# ax = plt.gca()\n",
    "# ax.axes.yaxis.set_visible(False)\n",
    "plt.xlabel(\"Feature Importance\")\n",
    "plt.xticks(rotation=45)\n",
    "plt.ylabel(\"Features\")\n",
    "plt.show()"
   ]
  },
  {
   "cell_type": "markdown",
   "metadata": {},
   "source": [
    "### Cross Validation Comes in and THIS MIGHT TAKES A LOT OF TIME and MEMORY!!!"
   ]
  },
  {
   "cell_type": "code",
   "execution_count": 26,
   "metadata": {},
   "outputs": [
    {
     "name": "stdout",
     "output_type": "stream",
     "text": [
      "0.8610603290676416\n",
      "0.870201096892139\n",
      "0.8455210237659964\n",
      "0.8839122486288848\n",
      "0.8600182982616651\n",
      "0.8601462522851919\n",
      "0.8829981718464351\n",
      "0.8729433272394881\n",
      "0.8574040219378428\n",
      "0.8719121683440073\n",
      "0.8619744058500914\n",
      "0.8720292504570384\n",
      "0.8893967093235832\n",
      "0.8738574040219378\n",
      "0.8636779505946935\n",
      "The mean of these scores is:  0.8684701772344424\n"
     ]
    }
   ],
   "source": [
    "\n",
    "cv = RepeatedStratifiedKFold(n_splits = 5, n_repeats = 3, random_state = 12345)\n",
    "# @n_splits: value of k\n",
    "# @n_repeats: how many times you want to repeat kfold-cv\n",
    "\n",
    "n_cross_val_scores = cross_val_score(ad, X, y, scoring = 'accuracy', cv = cv, n_jobs = -1, error_score = \"raise\")\n",
    "# @scoring: you can also change this to \"f1\" or \"roc_auc\" Reference: https://scikit-learn.org/stable/modules/model_evaluation.html#scoring-parameter\n",
    "\n",
    "\n",
    "for score in n_cross_val_scores:\n",
    "    print(score)\n",
    "    \n",
    "print(\"The mean of these scores is: \", mean(n_cross_val_scores))"
   ]
  },
  {
   "cell_type": "markdown",
   "metadata": {},
   "source": [
    "Note for above cell:\n",
    "RepeatedStratifiedKFold-> this function returns a generator/iterator, and repeatedly gives us k-fold cross validation. So we can get an average of them. it's kinda different from normal kFold"
   ]
  },
  {
   "cell_type": "markdown",
   "metadata": {},
   "source": [
    "## Now we might do cross validation on different number of trees, hence require more time and memory.\n",
    "\n",
    "### My computer just completely \"freezed\", so you might need to delete 5000 from \"n\", and also the corresponding label in the boxplot."
   ]
  },
  {
   "cell_type": "code",
   "execution_count": 27,
   "metadata": {},
   "outputs": [],
   "source": [
    "def explore_trees():\n",
    "    n = [1, 5, 10, 50, 100, 500, 1000, 5000]\n",
    "    models = []\n",
    "    for num in n:  \n",
    "        models.append(AdaBoostClassifier(n_estimators = num))\n",
    "    return models\n",
    "\n",
    "\n",
    "# labels = [1, 5, 10,50,100,500,1000,5000]\n",
    "\n",
    "def explore_learningRates():\n",
    "    \n",
    "    models = []\n",
    "#     models.append(AdaBoostClassifier(learning_rate = 0.0001))\n",
    "#     models.append(AdaBoostClassifier(learning_rate = 0.001))\n",
    "#     models.append(AdaBoostClassifier(learning_rate = 0.01))\n",
    "#     models.append(AdaBoostClassifier(learning_rate = 0.1))\n",
    "#     models.append(AdaBoostClassifier(learning_rate = 1))\n",
    "#     models.append(AdaBoostClassifier(learning_rate = 5))\n",
    "#     models.append(AdaBoostClassifier(learning_rate = 10))\n",
    "    for i in arange(0.1, 3.1, 0.1):\n",
    "        models.append(AdaBoostClassifier(learning_rate=i))\n",
    "    return models\n",
    "# labels = [0.0001, 0.001, 0.01, 0.1, 1, 5, 10]\n",
    "# lables = [i for i in arange(0.1, 3.1, 0.1)]"
   ]
  },
  {
   "cell_type": "code",
   "execution_count": 76,
   "metadata": {},
   "outputs": [],
   "source": [
    "models = explore_trees()"
   ]
  },
  {
   "cell_type": "markdown",
   "metadata": {},
   "source": [
    "## Accuracy:"
   ]
  },
  {
   "cell_type": "code",
   "execution_count": 77,
   "metadata": {},
   "outputs": [
    {
     "data": {
      "image/png": "[encoded data removed]",
      "text/plain": [
       "<Figure size 432x288 with 1 Axes>"
      ]
     },
     "metadata": {
      "needs_background": "light"
     },
     "output_type": "display_data"
    }
   ],
   "source": [
    "results = []\n",
    "for model in models:\n",
    "    cv = RepeatedStratifiedKFold(n_splits = 5, n_repeats = 8, random_state = 12345)\n",
    "    n_cross_val_scores = cross_val_score(model, X, y, scoring = 'accuracy', cv = cv, n_jobs = 4, error_score = \"raise\")\n",
    "    results.append(n_cross_val_scores)\n",
    "\n",
    "plt.boxplot(results, labels = [1, 5, 10, 50, 100, 500, 1000, 5000])\n",
    "plt.ylabel(\"Accuracy\")\n",
    "plt.xlabel(\"n_estimators\")\n",
    "plt.title(\"5-fold Cross-Validation\")\n",
    "plt.show()"
   ]
  },
  {
   "cell_type": "markdown",
   "metadata": {},
   "source": [
    "# ROC_AUC"
   ]
  },
  {
   "cell_type": "code",
   "execution_count": 80,
   "metadata": {},
   "outputs": [
    {
     "data": {
      "image/png": "[encoded data removed]",
      "text/plain": [
       "<Figure size 432x288 with 1 Axes>"
      ]
     },
     "metadata": {
      "needs_background": "light"
     },
     "output_type": "display_data"
    }
   ],
   "source": [
    "results = []\n",
    "for model in models:\n",
    "    cv = RepeatedStratifiedKFold(n_splits = 5, n_repeats = 8, random_state = 12345)\n",
    "    n_cross_val_scores = cross_val_score(model, X, y, scoring = 'roc_auc', cv = cv, n_jobs = -1, error_score = \"raise\")\n",
    "    results.append(n_cross_val_scores)\n",
    "\n",
    "plt.boxplot(results, labels = [1, 5, 10, 50, 100, 500, 1000, 5000])\n",
    "plt.ylabel(\"Area Under the Curve\")\n",
    "plt.xlabel(\"n_estimators\")\n",
    "plt.title(\"5-fold Cross-Validation\")\n",
    "plt.show()"
   ]
  },
  {
   "cell_type": "markdown",
   "metadata": {},
   "source": [
    "## Learning Rate\n"
   ]
  },
  {
   "cell_type": "code",
   "execution_count": 28,
   "metadata": {},
   "outputs": [],
   "source": [
    "lr_models = explore_learningRates()"
   ]
  },
  {
   "cell_type": "code",
   "execution_count": 99,
   "metadata": {},
   "outputs": [
    {
     "data": {
      "image/png": "[encoded data removed]",
      "text/plain": [
       "<Figure size 432x288 with 1 Axes>"
      ]
     },
     "metadata": {
      "needs_background": "light"
     },
     "output_type": "display_data"
    }
   ],
   "source": [
    "results = []\n",
    "for model in lr_models:\n",
    "    cv = RepeatedStratifiedKFold(n_splits = 5, n_repeats = 8, random_state = 12345)\n",
    "    n_cross_val_scores= cross_val_score(model, X,y, scoring = 'accuracy', cv =cv, n_jobs = -1, \n",
    "                                        error_score = \"raise\")\n",
    "    results.append(n_cross_val_scores)\n",
    "\n",
    "plt.boxplot(results, labels = [0.0001, 0.001, 0.01, 0.1, 1, 5, 10])\n",
    "plt.ylabel(\"Accuracy\")\n",
    "plt.xlabel(\"Learning Rate\")\n",
    "plt.title(\"5-fold Cross-Validation\")\n",
    "plt.show()"
   ]
  },
  {
   "cell_type": "code",
   "execution_count": 31,
   "metadata": {},
   "outputs": [
    {
     "data": {
      "image/png": "[encoded data removed]",
      "text/plain": [
       "<Figure size 720x576 with 1 Axes>"
      ]
     },
     "metadata": {
      "needs_background": "light"
     },
     "output_type": "display_data"
    }
   ],
   "source": [
    "plt.figure(figsize=(10,8))\n",
    "plt.boxplot(results, labels = [round(i,2) for i in arange(0.1, 3.1, 0.1)])\n",
    "plt.ylabel(\"Accuracy\")\n",
    "plt.xlabel(\"Learning Rate\")\n",
    "plt.title(\"5-fold Cross-Validation\")\n",
    "plt.xticks(rotation=45)\n",
    "plt.show()"
   ]
  },
  {
   "cell_type": "markdown",
   "metadata": {},
   "source": [
    "# Grid Search"
   ]
  },
  {
   "cell_type": "code",
   "execution_count": null,
   "metadata": {},
   "outputs": [],
   "source": [
    "grid = dict()\n",
    "grid['n_estimators'] = [1, 5, 10, 50, 100, 500, 1000, 5000]\n",
    "grid['learning_rate'] = [i for i in arange(0.1, 2.1, 0.1)]\n",
    "cv = RepeatedStratifiedKFold(n_splits = 10, n_repeats = 3, random_state = 12345)\n",
    "grid_search = GridSearchCV(estimator = AdaBoostClassifier(), param_grid = grid, \n",
    "                           n_jobs = -1, cv = cv, scoring = 'accuracy')"
   ]
  },
  {
   "cell_type": "code",
   "execution_count": null,
   "metadata": {},
   "outputs": [],
   "source": [
    "grid_search_result = grid_search.fit(X,y)"
   ]
  },
  {
   "cell_type": "code",
   "execution_count": null,
   "metadata": {},
   "outputs": [],
   "source": [
    "grid_search_result.best_estimator_"
   ]
  },
  {
   "cell_type": "markdown",
   "metadata": {},
   "source": [
    "# Plot ROC curve for test data set"
   ]
  },
  {
   "cell_type": "code",
   "execution_count": 32,
   "metadata": {},
   "outputs": [],
   "source": [
    "import sklearn.metrics as metrics\n",
    "probs = ad.predict_proba(x_test)\n",
    "probs = probs[:, 1]\n",
    "fpr, tpr, threshold = metrics.roc_curve(y_test, probs)\n",
    "roc_auc = metrics.auc(fpr,tpr)"
   ]
  },
  {
   "cell_type": "code",
   "execution_count": 33,
   "metadata": {},
   "outputs": [
    {
     "data": {
      "image/png": "[encoded data removed]",
      "text/plain": [
       "<Figure size 432x288 with 1 Axes>"
      ]
     },
     "metadata": {
      "needs_background": "light"
     },
     "output_type": "display_data"
    }
   ],
   "source": [
    "plt.title(\"AdaBoosting ROC\")\n",
    "plt.plot(fpr, tpr, 'b', label = 'AUC = %0.2f' % roc_auc)\n",
    "plt.legend(loc = \"lower right\")\n",
    "plt.plot([0,1], [0,1], 'r--')\n",
    "plt.xlim([0,1])\n",
    "plt.ylim([0,1])\n",
    "plt.ylabel(\"True Positive Rate\")\n",
    "plt.xlabel(\"False Positive Rate\")\n",
    "plt.show()"
   ]
  }
 ],
 "metadata": {
  "kernelspec": {
   "display_name": "Python 3",
   "language": "python",
   "name": "python3"
  },
  "language_info": {
   "codemirror_mode": {
    "name": "ipython",
    "version": 3
   },
   "file_extension": ".py",
   "mimetype": "text/x-python",
   "name": "python",
   "nbconvert_exporter": "python",
   "pygments_lexer": "ipython3",
   "version": "3.8.5"
  }
 },
 "nbformat": 4,
 "nbformat_minor": 4
}
